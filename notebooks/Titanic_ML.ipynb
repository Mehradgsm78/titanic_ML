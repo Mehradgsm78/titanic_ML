{
 "cells": [
  {
   "cell_type": "code",
   "execution_count": 4,
   "id": "1ca8ea9e",
   "metadata": {},
   "outputs": [],
   "source": [
    "# Kaggle submission: Username: mehradghassemi78, Score: 0.76 on 'Mehrad Ghassemi' notebook\n",
    "import numpy as np # linear algebra\n",
    "import pandas as pd # data processing\n",
    "\n",
    "\n",
    "# data visualization\n",
    "import seaborn as sns\n",
    "#import missingno as msno Note: this command reads on Kaggle notebook but not here.\n",
    "#%matplotlib inline\n",
    "from matplotlib import pyplot as plt\n",
    "from matplotlib import style\n",
    "\n",
    "\n",
    "# Model Helpers\n",
    "from sklearn.preprocessing import OneHotEncoder, LabelEncoder, StandardScaler\n",
    "from sklearn.metrics import roc_curve, auc\n",
    "from sklearn.model_selection import train_test_split\n",
    "\n",
    "# Models\n",
    "from sklearn import linear_model\n",
    "from sklearn.linear_model import LogisticRegression\n",
    "from sklearn.ensemble import RandomForestClassifier\n",
    "from sklearn.linear_model import Perceptron\n",
    "from sklearn.linear_model import SGDClassifier\n",
    "from sklearn.tree import DecisionTreeClassifier\n",
    "from sklearn.neighbors import KNeighborsClassifier\n",
    "from sklearn.svm import SVC, LinearSVC\n",
    "from sklearn.naive_bayes import GaussianNB\n",
    "from sklearn.metrics import classification_report, confusion_matrix, accuracy_score , roc_auc_score"
   ]
  },
  {
   "cell_type": "code",
   "execution_count": 5,
   "id": "6d0cf8be",
   "metadata": {},
   "outputs": [],
   "source": [
    "# Loading the data, this is the path for my directory. in order to load this on your, it has to change\n",
    "df_test = pd.read_csv(\"/Users/mehradghassemi/Desktop/MMAI/MMAI_5000/Assignment_2/Titanic_ML/data/raw/test.csv\")\n",
    "df_train = pd.read_csv(\"/Users/mehradghassemi/Desktop/MMAI/MMAI_5000/Assignment_2/Titanic_ML/data/raw/train.csv\")"
   ]
  },
  {
   "cell_type": "code",
   "execution_count": 6,
   "id": "b7af7a5b",
   "metadata": {},
   "outputs": [
    {
     "name": "stdout",
     "output_type": "stream",
     "text": [
      "     PassengerId\n",
      "0            892\n",
      "1            893\n",
      "2            894\n",
      "3            895\n",
      "4            896\n",
      "..           ...\n",
      "413         1305\n",
      "414         1306\n",
      "415         1307\n",
      "416         1308\n",
      "417         1309\n",
      "\n",
      "[418 rows x 1 columns]\n"
     ]
    }
   ],
   "source": [
    "def concat_df(train_data, test_data):\n",
    "    return pd.concat ([train_data, test_data], sort=True).reset_index(drop=True)\n",
    "\n",
    "df_all = pd.concat([df_train, df_test], sort=True).reset_index(drop=True)\n",
    "\n",
    "submission = pd.DataFrame().assign(PassengerId=df_test['PassengerId'])\n",
    "print(submission)"
   ]
  },
  {
   "cell_type": "code",
   "execution_count": 7,
   "id": "1d54b535",
   "metadata": {},
   "outputs": [
    {
     "name": "stdout",
     "output_type": "stream",
     "text": [
      "<class 'pandas.core.frame.DataFrame'>\n",
      "RangeIndex: 891 entries, 0 to 890\n",
      "Data columns (total 12 columns):\n",
      " #   Column       Non-Null Count  Dtype  \n",
      "---  ------       --------------  -----  \n",
      " 0   PassengerId  891 non-null    int64  \n",
      " 1   Survived     891 non-null    int64  \n",
      " 2   Pclass       891 non-null    int64  \n",
      " 3   Name         891 non-null    object \n",
      " 4   Sex          891 non-null    object \n",
      " 5   Age          714 non-null    float64\n",
      " 6   SibSp        891 non-null    int64  \n",
      " 7   Parch        891 non-null    int64  \n",
      " 8   Ticket       891 non-null    object \n",
      " 9   Fare         891 non-null    float64\n",
      " 10  Cabin        204 non-null    object \n",
      " 11  Embarked     889 non-null    object \n",
      "dtypes: float64(2), int64(5), object(5)\n",
      "memory usage: 83.7+ KB\n",
      "None\n",
      "<class 'pandas.core.frame.DataFrame'>\n",
      "RangeIndex: 418 entries, 0 to 417\n",
      "Data columns (total 11 columns):\n",
      " #   Column       Non-Null Count  Dtype  \n",
      "---  ------       --------------  -----  \n",
      " 0   PassengerId  418 non-null    int64  \n",
      " 1   Pclass       418 non-null    int64  \n",
      " 2   Name         418 non-null    object \n",
      " 3   Sex          418 non-null    object \n",
      " 4   Age          332 non-null    float64\n",
      " 5   SibSp        418 non-null    int64  \n",
      " 6   Parch        418 non-null    int64  \n",
      " 7   Ticket       418 non-null    object \n",
      " 8   Fare         417 non-null    float64\n",
      " 9   Cabin        91 non-null     object \n",
      " 10  Embarked     418 non-null    object \n",
      "dtypes: float64(2), int64(4), object(5)\n",
      "memory usage: 36.0+ KB\n",
      "None\n"
     ]
    }
   ],
   "source": [
    "# EDA ######################################################\n",
    "# Print information of train and test sets\n",
    "print(df_train.info())\n",
    "print(df_test.info())"
   ]
  },
  {
   "cell_type": "code",
   "execution_count": 8,
   "id": "e4b2d291",
   "metadata": {},
   "outputs": [
    {
     "name": "stdout",
     "output_type": "stream",
     "text": [
      "   PassengerId  Survived  Pclass  \\\n",
      "0            1         0       3   \n",
      "1            2         1       1   \n",
      "2            3         1       3   \n",
      "3            4         1       1   \n",
      "4            5         0       3   \n",
      "5            6         0       3   \n",
      "6            7         0       1   \n",
      "7            8         0       3   \n",
      "\n",
      "                                                Name     Sex   Age  SibSp  \\\n",
      "0                            Braund, Mr. Owen Harris    male  22.0      1   \n",
      "1  Cumings, Mrs. John Bradley (Florence Briggs Th...  female  38.0      1   \n",
      "2                             Heikkinen, Miss. Laina  female  26.0      0   \n",
      "3       Futrelle, Mrs. Jacques Heath (Lily May Peel)  female  35.0      1   \n",
      "4                           Allen, Mr. William Henry    male  35.0      0   \n",
      "5                                   Moran, Mr. James    male   NaN      0   \n",
      "6                            McCarthy, Mr. Timothy J    male  54.0      0   \n",
      "7                     Palsson, Master. Gosta Leonard    male   2.0      3   \n",
      "\n",
      "   Parch            Ticket     Fare Cabin Embarked  \n",
      "0      0         A/5 21171   7.2500   NaN        S  \n",
      "1      0          PC 17599  71.2833   C85        C  \n",
      "2      0  STON/O2. 3101282   7.9250   NaN        S  \n",
      "3      0            113803  53.1000  C123        S  \n",
      "4      0            373450   8.0500   NaN        S  \n",
      "5      0            330877   8.4583   NaN        Q  \n",
      "6      0             17463  51.8625   E46        S  \n",
      "7      1            349909  21.0750   NaN        S  \n",
      "   PassengerId  Pclass                                          Name     Sex  \\\n",
      "0          892       3                              Kelly, Mr. James    male   \n",
      "1          893       3              Wilkes, Mrs. James (Ellen Needs)  female   \n",
      "2          894       2                     Myles, Mr. Thomas Francis    male   \n",
      "3          895       3                              Wirz, Mr. Albert    male   \n",
      "4          896       3  Hirvonen, Mrs. Alexander (Helga E Lindqvist)  female   \n",
      "5          897       3                    Svensson, Mr. Johan Cervin    male   \n",
      "6          898       3                          Connolly, Miss. Kate  female   \n",
      "7          899       2                  Caldwell, Mr. Albert Francis    male   \n",
      "\n",
      "    Age  SibSp  Parch   Ticket     Fare Cabin Embarked  \n",
      "0  34.5      0      0   330911   7.8292   NaN        Q  \n",
      "1  47.0      1      0   363272   7.0000   NaN        S  \n",
      "2  62.0      0      0   240276   9.6875   NaN        Q  \n",
      "3  27.0      0      0   315154   8.6625   NaN        S  \n",
      "4  22.0      1      1  3101298  12.2875   NaN        S  \n",
      "5  14.0      0      0     7538   9.2250   NaN        S  \n",
      "6  30.0      0      0   330972   7.6292   NaN        Q  \n",
      "7  26.0      1      1   248738  29.0000   NaN        S  \n",
      "     PassengerId  Survived  Pclass                                      Name  \\\n",
      "886          887         0       2                     Montvila, Rev. Juozas   \n",
      "887          888         1       1              Graham, Miss. Margaret Edith   \n",
      "888          889         0       3  Johnston, Miss. Catherine Helen \"Carrie\"   \n",
      "889          890         1       1                     Behr, Mr. Karl Howell   \n",
      "890          891         0       3                       Dooley, Mr. Patrick   \n",
      "\n",
      "        Sex   Age  SibSp  Parch      Ticket   Fare Cabin Embarked  \n",
      "886    male  27.0      0      0      211536  13.00   NaN        S  \n",
      "887  female  19.0      0      0      112053  30.00   B42        S  \n",
      "888  female   NaN      1      2  W./C. 6607  23.45   NaN        S  \n",
      "889    male  26.0      0      0      111369  30.00  C148        C  \n",
      "890    male  32.0      0      0      370376   7.75   NaN        Q  \n",
      "     PassengerId  Pclass                          Name     Sex   Age  SibSp  \\\n",
      "413         1305       3            Spector, Mr. Woolf    male   NaN      0   \n",
      "414         1306       1  Oliva y Ocana, Dona. Fermina  female  39.0      0   \n",
      "415         1307       3  Saether, Mr. Simon Sivertsen    male  38.5      0   \n",
      "416         1308       3           Ware, Mr. Frederick    male   NaN      0   \n",
      "417         1309       3      Peter, Master. Michael J    male   NaN      1   \n",
      "\n",
      "     Parch              Ticket      Fare Cabin Embarked  \n",
      "413      0           A.5. 3236    8.0500   NaN        S  \n",
      "414      0            PC 17758  108.9000  C105        C  \n",
      "415      0  SOTON/O.Q. 3101262    7.2500   NaN        S  \n",
      "416      0              359309    8.0500   NaN        S  \n",
      "417      1                2668   22.3583   NaN        C  \n"
     ]
    }
   ],
   "source": [
    "# printing basic description of data \n",
    "print(df_train.head(8))\n",
    "print(df_test.head(8))\n",
    "print(df_train.tail(5))\n",
    "print(df_test.tail(5))"
   ]
  },
  {
   "cell_type": "code",
   "execution_count": 9,
   "id": "734c6e1f",
   "metadata": {},
   "outputs": [
    {
     "name": "stdout",
     "output_type": "stream",
     "text": [
      "     PassengerId  Survived  Pclass  \\\n",
      "135          136         0       2   \n",
      "86            87         0       3   \n",
      "227          228         0       3   \n",
      "96            97         0       1   \n",
      "599          600         1       1   \n",
      "388          389         0       3   \n",
      "570          571         1       2   \n",
      "303          304         1       2   \n",
      "377          378         0       1   \n",
      "634          635         0       3   \n",
      "\n",
      "                                             Name     Sex   Age  SibSp  Parch  \\\n",
      "135                            Richard, Mr. Emile    male  23.0      0      0   \n",
      "86                         Ford, Mr. William Neal    male  16.0      1      3   \n",
      "227               Lovell, Mr. John Hall (\"Henry\")    male  20.5      0      0   \n",
      "96                      Goldschmidt, Mr. George B    male  71.0      0      0   \n",
      "599  Duff Gordon, Sir. Cosmo Edmund (\"Mr Morgan\")    male  49.0      1      0   \n",
      "388                          Sadlier, Mr. Matthew    male   NaN      0      0   \n",
      "570                            Harris, Mr. George    male  62.0      0      0   \n",
      "303                           Keane, Miss. Nora A  female   NaN      0      0   \n",
      "377                     Widener, Mr. Harry Elkins    male  27.0      0      2   \n",
      "634                            Skoog, Miss. Mabel  female   9.0      3      2   \n",
      "\n",
      "            Ticket      Fare Cabin Embarked  \n",
      "135  SC/PARIS 2133   15.0458   NaN        C  \n",
      "86      W./C. 6608   34.3750   NaN        S  \n",
      "227      A/5 21173    7.2500   NaN        S  \n",
      "96        PC 17754   34.6542    A5        C  \n",
      "599       PC 17485   56.9292   A20        C  \n",
      "388         367655    7.7292   NaN        Q  \n",
      "570    S.W./PP 752   10.5000   NaN        S  \n",
      "303         226593   12.3500  E101        Q  \n",
      "377         113503  211.5000   C82        C  \n",
      "634         347088   27.9000   NaN        S  \n",
      "     PassengerId  Pclass                                           Name  \\\n",
      "246         1138       2          Karnes, Mrs. J Frank (Claire Bennett)   \n",
      "392         1284       3                  Abbott, Master. Eugene Joseph   \n",
      "328         1220       2                  Clarke, Mr. Charles Valentine   \n",
      "5            897       3                     Svensson, Mr. Johan Cervin   \n",
      "274         1166       3                          Saade, Mr. Jean Nassr   \n",
      "263         1155       3                   Klasen, Miss. Gertrud Emilia   \n",
      "47           939       3                       Shaughnessy, Mr. Patrick   \n",
      "15           907       2  del Carlo, Mrs. Sebastiano (Argenia Genovesi)   \n",
      "322         1214       2                             Nesson, Mr. Israel   \n",
      "205         1097       1                      Omont, Mr. Alfred Fernand   \n",
      "\n",
      "        Sex   Age  SibSp  Parch         Ticket     Fare Cabin Embarked  \n",
      "246  female  22.0      0      0   F.C.C. 13534  21.0000   NaN        S  \n",
      "392    male  13.0      0      2      C.A. 2673  20.2500   NaN        S  \n",
      "328    male  29.0      1      0           2003  26.0000   NaN        S  \n",
      "5      male  14.0      0      0           7538   9.2250   NaN        S  \n",
      "274    male   NaN      0      0           2676   7.2250   NaN        C  \n",
      "263  female   1.0      1      1         350405  12.1833   NaN        S  \n",
      "47     male   NaN      0      0         370374   7.7500   NaN        Q  \n",
      "15   female  24.0      1      0  SC/PARIS 2167  27.7208   NaN        C  \n",
      "322    male  26.0      0      0         244368  13.0000    F2        S  \n",
      "205    male   NaN      0      0     F.C. 12998  25.7417   NaN        C  \n"
     ]
    }
   ],
   "source": [
    "# generating some random parts of train and test dataset\n",
    "print(df_train.sample(10))\n",
    "print(df_test.sample(10))"
   ]
  },
  {
   "cell_type": "code",
   "execution_count": 10,
   "id": "8285e8ac",
   "metadata": {},
   "outputs": [
    {
     "name": "stdout",
     "output_type": "stream",
     "text": [
      "       PassengerId    Survived      Pclass         Age       SibSp  \\\n",
      "count   891.000000  891.000000  891.000000  714.000000  891.000000   \n",
      "mean    446.000000    0.383838    2.308642   29.699118    0.523008   \n",
      "std     257.353842    0.486592    0.836071   14.526497    1.102743   \n",
      "min       1.000000    0.000000    1.000000    0.420000    0.000000   \n",
      "25%     223.500000    0.000000    2.000000   20.125000    0.000000   \n",
      "50%     446.000000    0.000000    3.000000   28.000000    0.000000   \n",
      "75%     668.500000    1.000000    3.000000   38.000000    1.000000   \n",
      "max     891.000000    1.000000    3.000000   80.000000    8.000000   \n",
      "\n",
      "            Parch        Fare  \n",
      "count  891.000000  891.000000  \n",
      "mean     0.381594   32.204208  \n",
      "std      0.806057   49.693429  \n",
      "min      0.000000    0.000000  \n",
      "25%      0.000000    7.910400  \n",
      "50%      0.000000   14.454200  \n",
      "75%      0.000000   31.000000  \n",
      "max      6.000000  512.329200  \n",
      "length of train set is:  891\n",
      "length of test set is:  418\n"
     ]
    }
   ],
   "source": [
    "# printing descriptive statistics such as means, median, standard deviation, etc\n",
    "print(df_train.describe())\n",
    "print(\"length of train set is: \", len(df_train))\n",
    "print(\"length of test set is: \", len(df_test))"
   ]
  },
  {
   "cell_type": "code",
   "execution_count": 11,
   "id": "623c3df7",
   "metadata": {},
   "outputs": [
    {
     "data": {
      "image/png": "[encoded data removed]",
      "text/plain": [
       "<Figure size 2160x360 with 1 Axes>"
      ]
     },
     "metadata": {
      "needs_background": "light"
     },
     "output_type": "display_data"
    }
   ],
   "source": [
    "# Plotting the survival rate based on train dataset\n",
    "fig = plt.figure(figsize=(30, 5))\n",
    "sns.countplot(y='Survived', data=df_train)\n",
    "plt.show()"
   ]
  },
  {
   "cell_type": "code",
   "execution_count": 12,
   "id": "9264bfcc",
   "metadata": {},
   "outputs": [
    {
     "name": "stdout",
     "output_type": "stream",
     "text": [
      "    Age  Parch     Fare  SibSp\n",
      "0  22.0      0   7.2500      1\n",
      "1  38.0      0  71.2833      1\n",
      "   Pclass  Survived     Ticket Cabin Embarked     Sex\n",
      "0       3         0  A/5 21171   NaN        S    male\n",
      "1       1         1   PC 17599   C85        C  female\n"
     ]
    }
   ],
   "source": [
    "# let's define our columns by deviding them into catgorial and numeric dfs and find correlation between them\n",
    "df_category = df_train[['Pclass', 'Survived', 'Ticket', 'Cabin', 'Embarked', 'Sex']]\n",
    "df_numeric = df_train[['Age', 'Parch', 'Fare', 'SibSp']]\n",
    "print(df_numeric.head(2))\n",
    "print(df_category.head(2))"
   ]
  },
  {
   "cell_type": "code",
   "execution_count": 13,
   "id": "dd3daf2f",
   "metadata": {},
   "outputs": [
    {
     "name": "stdout",
     "output_type": "stream",
     "text": [
      "        Survived\n",
      "Pclass          \n",
      "1            216\n",
      "2            184\n",
      "3            491\n",
      "               Survived\n",
      "Pclass Sex             \n",
      "1      female        94\n",
      "       male         122\n",
      "2      female        76\n",
      "       male         108\n",
      "3      female       144\n",
      "       male         347\n",
      "                        Survived\n",
      "Pclass Sex    Embarked          \n",
      "1      female C               43\n",
      "              Q                1\n",
      "              S               48\n",
      "       male   C               42\n",
      "              Q                1\n",
      "              S               79\n",
      "2      male   S               97\n",
      "              Q                1\n",
      "              C               10\n",
      "       female S               67\n",
      "              Q                2\n",
      "              C                7\n",
      "3      female C               23\n",
      "              Q               33\n",
      "              S               88\n",
      "       male   C               43\n",
      "              Q               39\n",
      "              S              265\n"
     ]
    },
    {
     "data": {
      "text/html": [
       "<div>\n",
       "<style scoped>\n",
       "    .dataframe tbody tr th:only-of-type {\n",
       "        vertical-align: middle;\n",
       "    }\n",
       "\n",
       "    .dataframe tbody tr th {\n",
       "        vertical-align: top;\n",
       "    }\n",
       "\n",
       "    .dataframe thead th {\n",
       "        text-align: right;\n",
       "    }\n",
       "</style>\n",
       "<table border=\"1\" class=\"dataframe\">\n",
       "  <thead>\n",
       "    <tr style=\"text-align: right;\">\n",
       "      <th></th>\n",
       "      <th>Age</th>\n",
       "      <th>Fare</th>\n",
       "      <th>Parch</th>\n",
       "      <th>SibSp</th>\n",
       "    </tr>\n",
       "    <tr>\n",
       "      <th>Survived</th>\n",
       "      <th></th>\n",
       "      <th></th>\n",
       "      <th></th>\n",
       "      <th></th>\n",
       "    </tr>\n",
       "  </thead>\n",
       "  <tbody>\n",
       "    <tr>\n",
       "      <th>0</th>\n",
       "      <td>30.626179</td>\n",
       "      <td>22.117887</td>\n",
       "      <td>0.329690</td>\n",
       "      <td>0.553734</td>\n",
       "    </tr>\n",
       "    <tr>\n",
       "      <th>1</th>\n",
       "      <td>28.343690</td>\n",
       "      <td>48.395408</td>\n",
       "      <td>0.464912</td>\n",
       "      <td>0.473684</td>\n",
       "    </tr>\n",
       "  </tbody>\n",
       "</table>\n",
       "</div>"
      ],
      "text/plain": [
       "                Age       Fare     Parch     SibSp\n",
       "Survived                                          \n",
       "0         30.626179  22.117887  0.329690  0.553734\n",
       "1         28.343690  48.395408  0.464912  0.473684"
      ]
     },
     "execution_count": 13,
     "metadata": {},
     "output_type": "execute_result"
    }
   ],
   "source": [
    "# Exploring correlation (categorial) between Pclass and Survival rate\n",
    "print(df_train[['Pclass', 'Survived']].groupby(['Pclass'], as_index=True).count().sort_values(by='Pclass', ascending = True))\n",
    "\n",
    "# Exploring correlation (categorial) between Pclass, Sex and Survival rate\n",
    "print(df_train[['Pclass', 'Sex', 'Survived']].groupby(['Pclass', 'Sex'], as_index=True).count().sort_values(by='Pclass', ascending = True))\n",
    "\n",
    "# Exploring correlation (categorial) between Pclass, Sex, Embarked, and Survival rate\n",
    "print(df_train[['Pclass', 'Sex', 'Embarked', 'Survived']].groupby(['Pclass', 'Sex', 'Embarked'], as_index=True).count().sort_values(by='Pclass', ascending = True))\n",
    "\n",
    "# Exploring correlation (numerical) between Age, Parch, Fare, SibSp\n",
    "pd.pivot_table(df_train, index = 'Survived', values = ['Age', 'Parch', 'Fare', 'SibSp'])\n"
   ]
  },
  {
   "cell_type": "code",
   "execution_count": 14,
   "id": "0cff5d98",
   "metadata": {},
   "outputs": [
    {
     "data": {
      "image/png": "[encoded data removed]",
      "text/plain": [
       "<Figure size 432x288 with 1 Axes>"
      ]
     },
     "metadata": {
      "needs_background": "light"
     },
     "output_type": "display_data"
    }
   ],
   "source": [
    "sns.scatterplot(data = df_train, x = \"Fare\", y = \"Age\")\n",
    "plt.show()"
   ]
  },
  {
   "cell_type": "code",
   "execution_count": 15,
   "id": "da86f7b2",
   "metadata": {},
   "outputs": [
    {
     "name": "stdout",
     "output_type": "stream",
     "text": [
      "Cabin          687\n",
      "Age            177\n",
      "Embarked         2\n",
      "PassengerId      0\n",
      "Survived         0\n",
      "Pclass           0\n",
      "Name             0\n",
      "Sex              0\n",
      "SibSp            0\n",
      "Parch            0\n",
      "Ticket           0\n",
      "Fare             0\n",
      "dtype: int64\n",
      "Cabin          327\n",
      "Age             86\n",
      "Fare             1\n",
      "PassengerId      0\n",
      "Pclass           0\n",
      "Name             0\n",
      "Sex              0\n",
      "SibSp            0\n",
      "Parch            0\n",
      "Ticket           0\n",
      "Embarked         0\n",
      "dtype: int64\n"
     ]
    }
   ],
   "source": [
    "# Identification of missing values \n",
    "train_missing_all = df_train.isnull().sum().sort_values(ascending=False)\n",
    "test_missing_all = df_test.isnull().sum().sort_values(ascending=False)\n",
    "print(train_missing_all) \n",
    "print(test_missing_all)"
   ]
  },
  {
   "cell_type": "code",
   "execution_count": 16,
   "id": "eb074f59",
   "metadata": {},
   "outputs": [
    {
     "name": "stdout",
     "output_type": "stream",
     "text": [
      "Cabin          1014\n",
      "Survived        418\n",
      "Embarked          2\n",
      "Fare              1\n",
      "Age               0\n",
      "Name              0\n",
      "Parch             0\n",
      "PassengerId       0\n",
      "Pclass            0\n",
      "Sex               0\n",
      "SibSp             0\n",
      "Ticket            0\n",
      "dtype: int64\n",
      "Cabin          1014\n",
      "Survived        418\n",
      "Embarked          2\n",
      "Age               0\n",
      "Fare              0\n",
      "Name              0\n",
      "Parch             0\n",
      "PassengerId       0\n",
      "Pclass            0\n",
      "Sex               0\n",
      "SibSp             0\n",
      "Ticket            0\n",
      "dtype: int64\n",
      "      Age Cabin Embarked  Fare                                       Name  \\\n",
      "61   38.0   B28      NaN  80.0                        Icard, Miss. Amelie   \n",
      "829  62.0   B28      NaN  80.0  Stone, Mrs. George Nelson (Martha Evelyn)   \n",
      "\n",
      "     Parch  PassengerId  Pclass     Sex  SibSp  Survived  Ticket  \n",
      "61       0           62       1  female      0       1.0  113572  \n",
      "829      0          830       1  female      0       1.0  113572  \n",
      "                        PassengerId\n",
      "Embarked Pclass Sex                \n",
      "C        1      female           71\n",
      "                male             70\n",
      "         2      female           11\n",
      "                male             17\n",
      "         3      female           31\n",
      "                male             70\n",
      "Q        3      male             57\n",
      "                female           56\n",
      "         2      male              5\n",
      "                female            2\n",
      "         1      male              1\n",
      "                female            2\n",
      "S        1      female           69\n",
      "                male            108\n",
      "         2      female           93\n",
      "                male            149\n",
      "         3      female          129\n",
      "                male            366\n",
      "Cabin          1014\n",
      "Survived        418\n",
      "Age               0\n",
      "Embarked          0\n",
      "Fare              0\n",
      "Name              0\n",
      "Parch             0\n",
      "PassengerId       0\n",
      "Pclass            0\n",
      "Sex               0\n",
      "SibSp             0\n",
      "Ticket            0\n",
      "dtype: int64\n"
     ]
    }
   ],
   "source": [
    "# Dealing with null values of age \n",
    "df_all.Age = df_all.Age.fillna(df_all.Age.median())\n",
    "train_missing_all = df_all.isnull().sum().sort_values(ascending=False)\n",
    "print(train_missing_all)\n",
    "\n",
    "# dealing with null values of fare\n",
    "df_all.Fare = df_all.Fare.fillna(df_all.Fare.median())\n",
    "train_missing_all = df_all.isnull().sum().sort_values(ascending=False)\n",
    "print(train_missing_all)\n",
    "\n",
    "# dealing with embarked null values\n",
    "print(df_all[df_all['Embarked'].isnull()])\n",
    "print(df_all[['Pclass', 'Sex', 'Embarked','PassengerId']].groupby(['Embarked', 'Pclass', 'Sex'], as_index=True).count().sort_values(by='Embarked', ascending = True))\n",
    "# Based on the above data, for the rows with Embarked being NaN we found that the Pclasses and Sex is 1 and female respectively. \n",
    "# Based on the correlation found above, it's more likely for them to be in Embarked 'S'.\n",
    "df_all.Embarked = df_all.Embarked.fillna('S')\n",
    "train_missing_all = df_all.isnull().sum().sort_values(ascending=False)\n",
    "print(train_missing_all)"
   ]
  },
  {
   "cell_type": "code",
   "execution_count": 17,
   "id": "1583c28b",
   "metadata": {},
   "outputs": [
    {
     "name": "stdout",
     "output_type": "stream",
     "text": [
      "11\n",
      "11\n",
      "              Survived\n",
      "Family_count          \n",
      "4             0.724138\n",
      "3             0.578431\n",
      "2             0.552795\n",
      "7             0.333333\n",
      "1             0.303538\n",
      "5             0.200000\n",
      "6             0.136364\n",
      "8             0.000000\n",
      "11            0.000000\n"
     ]
    },
    {
     "name": "stderr",
     "output_type": "stream",
     "text": [
      "/Users/mehradghassemi/opt/anaconda3/lib/python3.9/site-packages/seaborn/categorical.py:3717: UserWarning: The `factorplot` function has been renamed to `catplot`. The original name will be removed in a future release. Please update your code. Note that the default `kind` in `factorplot` (`'point'`) has changed `'strip'` in `catplot`.\n",
      "  warnings.warn(msg)\n",
      "/Users/mehradghassemi/opt/anaconda3/lib/python3.9/site-packages/seaborn/_decorators.py:36: FutureWarning: Pass the following variables as keyword args: x, y. From version 0.12, the only valid positional argument will be `data`, and passing other arguments without an explicit keyword will result in an error or misinterpretation.\n",
      "  warnings.warn(\n"
     ]
    },
    {
     "data": {
      "image/png": "[encoded data removed]",
      "text/plain": [
       "<Figure size 1080x360 with 1 Axes>"
      ]
     },
     "metadata": {
      "needs_background": "light"
     },
     "output_type": "display_data"
    },
    {
     "name": "stdout",
     "output_type": "stream",
     "text": [
      "0      N\n",
      "1      C\n",
      "2      N\n",
      "3      C\n",
      "4      N\n",
      "      ..\n",
      "886    N\n",
      "887    B\n",
      "888    N\n",
      "889    C\n",
      "890    N\n",
      "Name: Deck, Length: 891, dtype: object\n",
      "      Survived\n",
      "Deck          \n",
      "D     0.757576\n",
      "E     0.750000\n",
      "B     0.744681\n",
      "F     0.615385\n",
      "C     0.593220\n",
      "G     0.500000\n",
      "A     0.466667\n",
      "N     0.299854\n",
      "T     0.000000\n",
      "0      N\n",
      "1      N\n",
      "2      N\n",
      "3      N\n",
      "4      N\n",
      "      ..\n",
      "413    N\n",
      "414    C\n",
      "415    N\n",
      "416    N\n",
      "417    N\n",
      "Name: Deck, Length: 418, dtype: object\n",
      "Index(['PassengerId', 'Survived', 'Pclass', 'Name', 'Sex', 'Age', 'SibSp',\n",
      "       'Parch', 'Ticket', 'Fare', 'Cabin', 'Embarked', 'Family_count',\n",
      "       'Family_category', 'Deck'],\n",
      "      dtype='object')\n",
      "   PassengerId  Pclass                              Name     Sex  \\\n",
      "0          892       3                  Kelly, Mr. James    male   \n",
      "1          893       3  Wilkes, Mrs. James (Ellen Needs)  female   \n",
      "2          894       2         Myles, Mr. Thomas Francis    male   \n",
      "\n",
      "                Age  SibSp  Parch  Ticket             Fare Cabin Embarked  \\\n",
      "0  (28.606, 38.085]      0      0  330911  (-0.001, 7.896]   NaN        Q   \n",
      "1  (38.085, 47.564]      1      0  363272  (-0.001, 7.896]   NaN        S   \n",
      "2  (57.043, 66.521]      0      0  240276  (7.896, 14.454]   NaN        Q   \n",
      "\n",
      "   Family_count Family_category Deck  \n",
      "0             1           Alone    N  \n",
      "1             2           Small    N  \n",
      "2             1           Alone    N  \n"
     ]
    }
   ],
   "source": [
    "# Feature engineering #############################\n",
    "\n",
    "# Creating a column that sums up parents, children, sibling and spouses and incrementing by 1 for the person himself/herself\n",
    "df_train['Family_count'] = df_train[\"Parch\"] + df_train[\"SibSp\"] + 1\n",
    "print(df_train['Family_count'].max())\n",
    "\n",
    "df_test['Family_count'] = df_test[\"Parch\"] + df_test[\"SibSp\"] + 1\n",
    "print(df_test['Family_count'].max())\n",
    "\n",
    "# Checking the correlation of family_count with survival\n",
    "print(df_train[['Family_count','Survived']].groupby(['Family_count'], as_index=True).mean().sort_values(by='Survived', ascending = False))\n",
    "\n",
    "\n",
    "sns.factorplot('Family_count','Survived', data=df_train, aspect = 3)\n",
    "plt.show()\n",
    "\n",
    "# We are going to separate the family_count values into 3 categories of alone [1], small [2-4] medium [5-6] and large [7-11]\n",
    "categories = {1: 'Alone', 2: 'Small', 3: 'Small', 4: 'Small', 5: 'Medium', 6: 'Medium', 7: 'Large', 8: 'Large', 11: 'Large'}\n",
    "\n",
    "df_train['Family_category'] = df_train['Family_count'].map(categories)\n",
    "df_test['Family_category'] = df_test['Family_count'].map(categories)\n",
    "\n",
    "# Dealing with cabin feature\n",
    "# We are going to replace null values with letter 'N'\n",
    "df_train['Deck'] = df_train['Cabin'].apply(lambda i: i[0] if pd.notnull(i) else 'N')\n",
    "print(df_train['Deck'])\n",
    "\n",
    "# Printing correlation between Deck and Survived\n",
    "print(df_train[['Deck','Survived']].groupby(['Deck'], as_index=True).mean().sort_values(by='Survived', ascending = False))\n",
    "\n",
    "df_test['Deck'] = df_test['Cabin'].apply(lambda i: i[0] if pd.notnull(i) else 'N')\n",
    "print(df_test['Deck'])\n",
    "\n",
    "df_train['Fare'] = pd.qcut(df_train['Fare'], 4)\n",
    "df_test['Fare'] = pd.qcut(df_test['Fare'], 4)\n",
    "\n",
    "df_train['Age'] = pd.cut(df_train['Age'], 8)\n",
    "df_test['Age'] = pd.cut(df_test['Age'], 8)\n",
    "\n",
    "df_train.drop(columns = ['Cabin'])\n",
    "print(df_train.columns)\n",
    "\n",
    "df_test.drop(columns = ['Cabin'])\n",
    "print(df_test.head(3))\n"
   ]
  },
  {
   "cell_type": "code",
   "execution_count": 18,
   "id": "b3725ccc",
   "metadata": {},
   "outputs": [
    {
     "data": {
      "text/plain": [
       "((891, 14), (418, 14))"
      ]
     },
     "execution_count": 18,
     "metadata": {},
     "output_type": "execute_result"
    }
   ],
   "source": [
    "# Encoding ########################################\n",
    "\n",
    "# converting into encoded features \n",
    "one_hot = df_train.columns.tolist()\n",
    "one_hot.remove('Survived')\n",
    "df_train_onehot = pd.get_dummies(df_train, columns=one_hot)\n",
    "\n",
    "df_test_onehot = pd.get_dummies(df_test, columns=one_hot)\n",
    "\n",
    "df_train_onehot.head()\n",
    "df_test_onehot.head()\n",
    "\n",
    "df_train_enc = df_train.apply(LabelEncoder().fit_transform)\n",
    "\n",
    "df_test_enc = df_test.apply(LabelEncoder().fit_transform)\n",
    "\n",
    "df_train_enc.head()\n",
    "df_test_enc\n",
    "df_train_enc\n",
    "df_train\n",
    "\n",
    "df_train.head()\n",
    "df_test.head()\n",
    "\n",
    "final_df = df_train_enc\n",
    "\n",
    "final_df.head()\n",
    "\n",
    "X = final_df.drop('Survived', axis=1)\n",
    "Y = final_df.Survived\n",
    "\n",
    "# Checking the first few rows of X\n",
    "X.head()\n",
    "\n",
    "# Getting the shape of Y\n",
    "Y.shape\n",
    "\n",
    "# Getting the shape of X and df_test_enc\n",
    "X.shape, df_test_enc.shape"
   ]
  },
  {
   "cell_type": "code",
   "execution_count": 19,
   "id": "8fb72601",
   "metadata": {},
   "outputs": [
    {
     "data": {
      "text/plain": [
       "((178, 14), (178,))"
      ]
     },
     "execution_count": 19,
     "metadata": {},
     "output_type": "execute_result"
    }
   ],
   "source": [
    "# Data Splitting ###########################\n",
    "\n",
    "X_train, X_test, Y_train, Y_test = train_test_split(X, Y, test_size=0.2)\n",
    "\n",
    "X_train, X_validation, Y_train, Y_validation = train_test_split(X_train, Y_train, test_size=0.25)\n",
    "\n",
    "X_train.shape, X_test.shape, X_validation.shape, Y_train.shape,Y_test.shape, Y_validation.shape\n",
    "\n",
    "# Dropping the last row of X_test and Y_test\n",
    "X_test = X_test.drop(X_test.index[-1])\n",
    "Y_test = Y_test.drop(Y_test.index[-1])\n",
    "X_test.shape, Y_test.shape"
   ]
  },
  {
   "cell_type": "code",
   "execution_count": 20,
   "id": "7ade8219",
   "metadata": {},
   "outputs": [
    {
     "name": "stdout",
     "output_type": "stream",
     "text": [
      "80.34\n",
      "     PassengerId  Survived\n",
      "0            892         0\n",
      "1            893         1\n",
      "2            894         0\n",
      "3            895         1\n",
      "4            896         1\n",
      "..           ...       ...\n",
      "413         1305         0\n",
      "414         1306         1\n",
      "415         1307         0\n",
      "416         1308         0\n",
      "417         1309         1\n",
      "\n",
      "[418 rows x 2 columns]\n"
     ]
    }
   ],
   "source": [
    "# Fitting our Models #######################\n",
    "\n",
    "\n",
    "#Random Forest\n",
    "random_forest = RandomForestClassifier(n_estimators=100)\n",
    "random_forest.fit(X_train, Y_train)\n",
    "\n",
    "rf_Y_pred = random_forest.predict(X_validation)\n",
    "\n",
    "\n",
    "acc_random_forest = round(accuracy_score(Y_validation, rf_Y_pred) * 100, 2)\n",
    "print(acc_random_forest)\n",
    "\n",
    "rf_Y_test = random_forest.predict(X_test)\n",
    "\n",
    "random_forest = RandomForestClassifier(n_estimators=100)\n",
    "random_forest.fit(X_train, Y_train)\n",
    "\n",
    "rf_Y_pred = random_forest.predict(df_test_enc)\n",
    "\n",
    "#X_train\n",
    "#Y_train\n",
    "#df_test_lab\n",
    "len(rf_Y_pred)\n",
    "submission['Survived'] = pd.DataFrame(rf_Y_pred)\n",
    "print(submission)\n"
   ]
  },
  {
   "cell_type": "code",
   "execution_count": 21,
   "id": "da89e4b4",
   "metadata": {},
   "outputs": [
    {
     "name": "stdout",
     "output_type": "stream",
     "text": [
      "75.843\n"
     ]
    },
    {
     "name": "stderr",
     "output_type": "stream",
     "text": [
      "/Users/mehradghassemi/opt/anaconda3/lib/python3.9/site-packages/sklearn/linear_model/_logistic.py:814: ConvergenceWarning: lbfgs failed to converge (status=1):\n",
      "STOP: TOTAL NO. of ITERATIONS REACHED LIMIT.\n",
      "\n",
      "Increase the number of iterations (max_iter) or scale the data as shown in:\n",
      "    https://scikit-learn.org/stable/modules/preprocessing.html\n",
      "Please also refer to the documentation for alternative solver options:\n",
      "    https://scikit-learn.org/stable/modules/linear_model.html#logistic-regression\n",
      "  n_iter_i = _check_optimize_result(\n",
      "/Users/mehradghassemi/opt/anaconda3/lib/python3.9/site-packages/sklearn/linear_model/_logistic.py:814: ConvergenceWarning: lbfgs failed to converge (status=1):\n",
      "STOP: TOTAL NO. of ITERATIONS REACHED LIMIT.\n",
      "\n",
      "Increase the number of iterations (max_iter) or scale the data as shown in:\n",
      "    https://scikit-learn.org/stable/modules/preprocessing.html\n",
      "Please also refer to the documentation for alternative solver options:\n",
      "    https://scikit-learn.org/stable/modules/linear_model.html#logistic-regression\n",
      "  n_iter_i = _check_optimize_result(\n"
     ]
    },
    {
     "data": {
      "text/plain": [
       "418"
      ]
     },
     "execution_count": 21,
     "metadata": {},
     "output_type": "execute_result"
    }
   ],
   "source": [
    "# logistic regression\n",
    "logreg = LogisticRegression()\n",
    "logreg.fit(X_train, Y_train)\n",
    "\n",
    "lg_Y_pred = logreg.predict(X_validation)\n",
    "\n",
    "acc_log = round(accuracy_score(Y_validation, lg_Y_pred) * 100, 3)\n",
    "print(acc_log)\n",
    "\n",
    "lg_Y_test = logreg.predict(X_test)\n",
    "\n",
    "logreg = LogisticRegression()\n",
    "logreg.fit(X_train, Y_train)\n",
    "\n",
    "lg_Y_pred = logreg.predict(df_test_enc)\n",
    "len(lg_Y_pred)"
   ]
  },
  {
   "cell_type": "code",
   "execution_count": 22,
   "id": "d7dd5507",
   "metadata": {},
   "outputs": [
    {
     "name": "stdout",
     "output_type": "stream",
     "text": [
      "56.18\n"
     ]
    }
   ],
   "source": [
    "# KNeighbors Classifier\n",
    "knn = KNeighborsClassifier(n_neighbors = 3)\n",
    "knn.fit(X_train, Y_train)\n",
    "knn_Y_pred = knn.predict(X_validation)\n",
    "\n",
    "acc_knn = round(accuracy_score(Y_validation, knn_Y_pred) * 100, 3)\n",
    "print(acc_knn)"
   ]
  },
  {
   "cell_type": "code",
   "execution_count": 23,
   "id": "c5d4dd3c",
   "metadata": {},
   "outputs": [
    {
     "name": "stdout",
     "output_type": "stream",
     "text": [
      "74.157\n"
     ]
    },
    {
     "data": {
      "text/plain": [
       "418"
      ]
     },
     "execution_count": 23,
     "metadata": {},
     "output_type": "execute_result"
    }
   ],
   "source": [
    "\n",
    "# GaussianNB\n",
    "gaussian = GaussianNB()\n",
    "gaussian.fit(X_train, Y_train)\n",
    "ga_Y_pred = gaussian.predict(X_validation)\n",
    "\n",
    "acc_gaussian = round(accuracy_score(Y_validation, ga_Y_pred) * 100, 3)\n",
    "print(acc_gaussian)\n",
    "\n",
    "ga_Y_test = gaussian.predict(X_test)\n",
    "\n",
    "gaussian = GaussianNB()\n",
    "gaussian.fit(X_train, Y_train)\n",
    "ga_Y_pred = gaussian.predict(df_test_enc)\n",
    "len(ga_Y_pred)"
   ]
  },
  {
   "cell_type": "code",
   "execution_count": 24,
   "id": "2993d0d1",
   "metadata": {},
   "outputs": [
    {
     "name": "stdout",
     "output_type": "stream",
     "text": [
      "39.326\n",
      "77.528\n"
     ]
    },
    {
     "name": "stderr",
     "output_type": "stream",
     "text": [
      "/Users/mehradghassemi/opt/anaconda3/lib/python3.9/site-packages/sklearn/svm/_base.py:1206: ConvergenceWarning: Liblinear failed to converge, increase the number of iterations.\n",
      "  warnings.warn(\n"
     ]
    },
    {
     "data": {
      "text/html": [
       "<div>\n",
       "<style scoped>\n",
       "    .dataframe tbody tr th:only-of-type {\n",
       "        vertical-align: middle;\n",
       "    }\n",
       "\n",
       "    .dataframe tbody tr th {\n",
       "        vertical-align: top;\n",
       "    }\n",
       "\n",
       "    .dataframe thead th {\n",
       "        text-align: right;\n",
       "    }\n",
       "</style>\n",
       "<table border=\"1\" class=\"dataframe\">\n",
       "  <thead>\n",
       "    <tr style=\"text-align: right;\">\n",
       "      <th></th>\n",
       "      <th>PassengerId</th>\n",
       "      <th>Pclass</th>\n",
       "      <th>Name</th>\n",
       "      <th>Sex</th>\n",
       "      <th>Age</th>\n",
       "      <th>SibSp</th>\n",
       "      <th>Parch</th>\n",
       "      <th>Ticket</th>\n",
       "      <th>Fare</th>\n",
       "      <th>Cabin</th>\n",
       "      <th>Embarked</th>\n",
       "      <th>Family_count</th>\n",
       "      <th>Family_category</th>\n",
       "      <th>Deck</th>\n",
       "    </tr>\n",
       "  </thead>\n",
       "  <tbody>\n",
       "    <tr>\n",
       "      <th>0</th>\n",
       "      <td>892</td>\n",
       "      <td>3</td>\n",
       "      <td>Kelly, Mr. James</td>\n",
       "      <td>male</td>\n",
       "      <td>(28.606, 38.085]</td>\n",
       "      <td>0</td>\n",
       "      <td>0</td>\n",
       "      <td>330911</td>\n",
       "      <td>(-0.001, 7.896]</td>\n",
       "      <td>NaN</td>\n",
       "      <td>Q</td>\n",
       "      <td>1</td>\n",
       "      <td>Alone</td>\n",
       "      <td>N</td>\n",
       "    </tr>\n",
       "    <tr>\n",
       "      <th>1</th>\n",
       "      <td>893</td>\n",
       "      <td>3</td>\n",
       "      <td>Wilkes, Mrs. James (Ellen Needs)</td>\n",
       "      <td>female</td>\n",
       "      <td>(38.085, 47.564]</td>\n",
       "      <td>1</td>\n",
       "      <td>0</td>\n",
       "      <td>363272</td>\n",
       "      <td>(-0.001, 7.896]</td>\n",
       "      <td>NaN</td>\n",
       "      <td>S</td>\n",
       "      <td>2</td>\n",
       "      <td>Small</td>\n",
       "      <td>N</td>\n",
       "    </tr>\n",
       "    <tr>\n",
       "      <th>2</th>\n",
       "      <td>894</td>\n",
       "      <td>2</td>\n",
       "      <td>Myles, Mr. Thomas Francis</td>\n",
       "      <td>male</td>\n",
       "      <td>(57.043, 66.521]</td>\n",
       "      <td>0</td>\n",
       "      <td>0</td>\n",
       "      <td>240276</td>\n",
       "      <td>(7.896, 14.454]</td>\n",
       "      <td>NaN</td>\n",
       "      <td>Q</td>\n",
       "      <td>1</td>\n",
       "      <td>Alone</td>\n",
       "      <td>N</td>\n",
       "    </tr>\n",
       "    <tr>\n",
       "      <th>3</th>\n",
       "      <td>895</td>\n",
       "      <td>3</td>\n",
       "      <td>Wirz, Mr. Albert</td>\n",
       "      <td>male</td>\n",
       "      <td>(19.128, 28.606]</td>\n",
       "      <td>0</td>\n",
       "      <td>0</td>\n",
       "      <td>315154</td>\n",
       "      <td>(7.896, 14.454]</td>\n",
       "      <td>NaN</td>\n",
       "      <td>S</td>\n",
       "      <td>1</td>\n",
       "      <td>Alone</td>\n",
       "      <td>N</td>\n",
       "    </tr>\n",
       "    <tr>\n",
       "      <th>4</th>\n",
       "      <td>896</td>\n",
       "      <td>3</td>\n",
       "      <td>Hirvonen, Mrs. Alexander (Helga E Lindqvist)</td>\n",
       "      <td>female</td>\n",
       "      <td>(19.128, 28.606]</td>\n",
       "      <td>1</td>\n",
       "      <td>1</td>\n",
       "      <td>3101298</td>\n",
       "      <td>(7.896, 14.454]</td>\n",
       "      <td>NaN</td>\n",
       "      <td>S</td>\n",
       "      <td>3</td>\n",
       "      <td>Small</td>\n",
       "      <td>N</td>\n",
       "    </tr>\n",
       "  </tbody>\n",
       "</table>\n",
       "</div>"
      ],
      "text/plain": [
       "   PassengerId  Pclass                                          Name     Sex  \\\n",
       "0          892       3                              Kelly, Mr. James    male   \n",
       "1          893       3              Wilkes, Mrs. James (Ellen Needs)  female   \n",
       "2          894       2                     Myles, Mr. Thomas Francis    male   \n",
       "3          895       3                              Wirz, Mr. Albert    male   \n",
       "4          896       3  Hirvonen, Mrs. Alexander (Helga E Lindqvist)  female   \n",
       "\n",
       "                Age  SibSp  Parch   Ticket             Fare Cabin Embarked  \\\n",
       "0  (28.606, 38.085]      0      0   330911  (-0.001, 7.896]   NaN        Q   \n",
       "1  (38.085, 47.564]      1      0   363272  (-0.001, 7.896]   NaN        S   \n",
       "2  (57.043, 66.521]      0      0   240276  (7.896, 14.454]   NaN        Q   \n",
       "3  (19.128, 28.606]      0      0   315154  (7.896, 14.454]   NaN        S   \n",
       "4  (19.128, 28.606]      1      1  3101298  (7.896, 14.454]   NaN        S   \n",
       "\n",
       "   Family_count Family_category Deck  \n",
       "0             1           Alone    N  \n",
       "1             2           Small    N  \n",
       "2             1           Alone    N  \n",
       "3             1           Alone    N  \n",
       "4             3           Small    N  "
      ]
     },
     "execution_count": 24,
     "metadata": {},
     "output_type": "execute_result"
    }
   ],
   "source": [
    "# LinearSVC\n",
    "linear_svc = LinearSVC()\n",
    "linear_svc.fit(X_train, Y_train)\n",
    "\n",
    "svc_Y_pred = linear_svc.predict(X_validation)\n",
    "\n",
    "acc_linear_svc = round(accuracy_score(Y_validation, svc_Y_pred) * 100, 3)\n",
    "print(acc_linear_svc)\n",
    "\n",
    "# Decision Tree\n",
    "decision_tree = DecisionTreeClassifier()\n",
    "decision_tree.fit(X_train, Y_train)\n",
    "dt_Y_pred = decision_tree.predict(X_validation)\n",
    "acc_decision_tree = round(accuracy_score(Y_validation, dt_Y_pred) * 100, 3)\n",
    "print(acc_decision_tree)\n",
    "\n",
    "X_train.head()\n",
    "\n",
    "df_test.head()"
   ]
  },
  {
   "cell_type": "code",
   "execution_count": 25,
   "id": "41e68b04",
   "metadata": {},
   "outputs": [
    {
     "name": "stdout",
     "output_type": "stream",
     "text": [
      "F1 score of random forest is:  0.7482993197278911\n",
      "F1 score of Logistic regression is:  0.7034482758620689\n",
      "F1 score of Gaussian is:  0.7320261437908497\n",
      "AUC of Random forest is : 0.7834107327141384\n",
      "AUC of Logistic regression is : 0.7472910216718266\n",
      "AUC of Gaussian is : 0.7654798761609908\n",
      "Accuracy of Random forest is:  80.34\n",
      "Accuracy of Logistic regression is:  75.843\n",
      "Accuracy of Gaussian is:  74.157\n"
     ]
    }
   ],
   "source": [
    "# Accuracy, f1 score, and AUC on chosen models: Random forest, Logistic regression, Gaussian\n",
    "\n",
    "# calculating f1 score for the three chosen models: Random forest, Logistic regression, and Gaussian\n",
    "from sklearn.metrics import f1_score\n",
    "rf_f1 = f1_score(Y_test , rf_Y_test)\n",
    "lg_f1 = f1_score(Y_test , lg_Y_test)\n",
    "ga_f1 = f1_score(Y_test , ga_Y_test)\n",
    "\n",
    "print(\"F1 score of random forest is: \", rf_f1)\n",
    "print(\"F1 score of Logistic regression is: \", lg_f1)\n",
    "print(\"F1 score of Gaussian is: \", ga_f1) \n",
    "\n",
    "\n",
    "# calculating the AUC of the chosen models\n",
    "from sklearn.metrics import roc_auc_score\n",
    "rf_auc = roc_auc_score(Y_test, rf_Y_test)\n",
    "lg_auc = roc_auc_score(Y_test, lg_Y_test)\n",
    "ga_auc = roc_auc_score(Y_test, ga_Y_test)\n",
    "\n",
    "print(\"AUC of Random forest is :\", rf_auc)\n",
    "print(\"AUC of Logistic regression is :\", lg_auc)\n",
    "print(\"AUC of Gaussian is :\", ga_auc)\n",
    "\n",
    "\n",
    "# Printing the accuracy score of the chosen models\n",
    "print(\"Accuracy of Random forest is: \", acc_random_forest)\n",
    "print(\"Accuracy of Logistic regression is: \", acc_log)\n",
    "print(\"Accuracy of Gaussian is: \", acc_gaussian)"
   ]
  },
  {
   "cell_type": "code",
   "execution_count": null,
   "id": "1b5bcf83",
   "metadata": {},
   "outputs": [],
   "source": []
  }
 ],
 "metadata": {
  "kernelspec": {
   "display_name": "titanic_ML",
   "language": "python",
   "name": "titanic_ml"
  },
  "language_info": {
   "codemirror_mode": {
    "name": "ipython",
    "version": 3
   },
   "file_extension": ".py",
   "mimetype": "text/x-python",
   "name": "python",
   "nbconvert_exporter": "python",
   "pygments_lexer": "ipython3",
   "version": "3.9.12"
  }
 },
 "nbformat": 4,
 "nbformat_minor": 5
}
